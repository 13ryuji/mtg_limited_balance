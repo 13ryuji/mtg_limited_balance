{
 "cells": [
  {
   "cell_type": "code",
   "execution_count": 1,
   "id": "nasty-identifier",
   "metadata": {},
   "outputs": [],
   "source": [
    "import pandas as pd"
   ]
  },
  {
   "cell_type": "code",
   "execution_count": 2,
   "id": "steady-floor",
   "metadata": {},
   "outputs": [],
   "source": [
    "df = pd.read_csv('./rowdata/STX_balance.csv',delimiter='\\t')#, header=None)"
   ]
  },
  {
   "cell_type": "code",
   "execution_count": 3,
   "id": "quarterly-cisco",
   "metadata": {},
   "outputs": [],
   "source": [
    "# df.columns=[\n",
    "#     'date',\n",
    "#     'Expansion',\n",
    "#     'star',\n",
    "#     'colors',\n",
    "#     'win-lose',\n",
    "#     'Format',\n",
    "#     'start_rank',\n",
    "#     'finish_rank',\n",
    "#     'xxx'\n",
    "# ]"
   ]
  },
  {
   "cell_type": "code",
   "execution_count": 4,
   "id": "leading-president",
   "metadata": {},
   "outputs": [
    {
     "data": {
      "text/plain": [
       "['Date',\n",
       " 'Set',\n",
       " 'Trophy',\n",
       " 'Colors',\n",
       " 'W/L',\n",
       " 'Format',\n",
       " 'Start Rank',\n",
       " 'End Rank',\n",
       " 'Shareable Links']"
      ]
     },
     "execution_count": 4,
     "metadata": {},
     "output_type": "execute_result"
    }
   ],
   "source": [
    "df.columns.tolist()"
   ]
  },
  {
   "cell_type": "code",
   "execution_count": 5,
   "id": "binary-friend",
   "metadata": {},
   "outputs": [],
   "source": [
    "df_wl = df['W/L'].str.split(' - ', expand=True)"
   ]
  },
  {
   "cell_type": "code",
   "execution_count": 6,
   "id": "manual-spelling",
   "metadata": {},
   "outputs": [],
   "source": [
    "df2 = pd.concat([df, df_wl], axis=1)"
   ]
  },
  {
   "cell_type": "code",
   "execution_count": 7,
   "id": "cordless-jenny",
   "metadata": {},
   "outputs": [],
   "source": [
    "df3 = df2[df2['Date']!='Details']"
   ]
  },
  {
   "cell_type": "code",
   "execution_count": 8,
   "id": "competent-highlight",
   "metadata": {},
   "outputs": [],
   "source": [
    "df3.columns=df.columns.tolist() + ['wins', 'loses']"
   ]
  },
  {
   "cell_type": "code",
   "execution_count": 9,
   "id": "destroyed-andrews",
   "metadata": {},
   "outputs": [
    {
     "data": {
      "text/plain": [
       "array(['PremierDraft', 'OpenSealed_D1_Bo1', 'OpenSealed_D1_Bo3',\n",
       "       'TradDraft', 'Sealed'], dtype=object)"
      ]
     },
     "execution_count": 9,
     "metadata": {},
     "output_type": "execute_result"
    }
   ],
   "source": [
    "df3['Format'].unique()"
   ]
  },
  {
   "cell_type": "code",
   "execution_count": 10,
   "id": "vocational-mainland",
   "metadata": {},
   "outputs": [],
   "source": [
    "Sealed = pd.read_csv('./rowdata/Sealed.csv')\n",
    "PremierDraft = pd.read_csv('./rowdata/PremierDraft.csv')\n",
    "TradDraft = pd.read_csv('./rowdata/TradDraft.csv')\n",
    "OpenSealed_D1_Bo1 = pd.read_csv('./rowdata/OpenSealed_D1_Bo1.csv')\n",
    "OpenSealed_D1_Bo3 = pd.read_csv('./rowdata/OpenSealed_D1_Bo3.csv')"
   ]
  },
  {
   "cell_type": "code",
   "execution_count": 11,
   "id": "sunset-pitch",
   "metadata": {},
   "outputs": [
    {
     "data": {
      "text/plain": [
       "Index(['Date', 'Set', 'Trophy', 'Colors', 'W/L', 'Format', 'Start Rank',\n",
       "       'End Rank', 'Shareable Links', 'wins', 'loses'],\n",
       "      dtype='object')"
      ]
     },
     "execution_count": 11,
     "metadata": {},
     "output_type": "execute_result"
    }
   ],
   "source": [
    "df3.columns"
   ]
  },
  {
   "cell_type": "code",
   "execution_count": 12,
   "id": "cognitive-terry",
   "metadata": {},
   "outputs": [
    {
     "name": "stderr",
     "output_type": "stream",
     "text": [
      "<ipython-input-12-6669785dc130>:1: UserWarning: Boolean Series key will be reindexed to match DataFrame index.\n",
      "  df_Sealed = df3[df['Format']=='Sealed'].merge(Sealed, on='wins', how='left')\n",
      "<ipython-input-12-6669785dc130>:4: UserWarning: Boolean Series key will be reindexed to match DataFrame index.\n",
      "  df_PremierDraft = df3[df['Format']=='PremierDraft'].merge(PremierDraft, on='wins', how='left')\n",
      "<ipython-input-12-6669785dc130>:7: UserWarning: Boolean Series key will be reindexed to match DataFrame index.\n",
      "  df_TradDraft = df3[df['Format']=='TradDraft'].merge(TradDraft, on='wins', how='left')\n",
      "<ipython-input-12-6669785dc130>:10: UserWarning: Boolean Series key will be reindexed to match DataFrame index.\n",
      "  df_OpenSealed_D1_Bo1 = df3[df['Format']=='OpenSealed_D1_Bo1'].merge(OpenSealed_D1_Bo1, on='wins', how='left')\n",
      "<ipython-input-12-6669785dc130>:13: UserWarning: Boolean Series key will be reindexed to match DataFrame index.\n",
      "  df_OpenSealed_D1_Bo3 = df3[df['Format']=='OpenSealed_D1_Bo3'].merge(OpenSealed_D1_Bo3, on='wins', how='left')\n"
     ]
    }
   ],
   "source": [
    "df_Sealed = df3[df['Format']=='Sealed'].merge(Sealed, on='wins', how='left')\n",
    "df_Sealed['Entry'] = 2000\n",
    "\n",
    "df_PremierDraft = df3[df['Format']=='PremierDraft'].merge(PremierDraft, on='wins', how='left')\n",
    "df_PremierDraft['Entry'] = 1500\n",
    "\n",
    "df_TradDraft = df3[df['Format']=='TradDraft'].merge(TradDraft, on='wins', how='left')\n",
    "df_TradDraft['Entry'] = 1500\n",
    "\n",
    "df_OpenSealed_D1_Bo1 = df3[df['Format']=='OpenSealed_D1_Bo1'].merge(OpenSealed_D1_Bo1, on='wins', how='left')\n",
    "df_OpenSealed_D1_Bo1['Entry'] = 4500\n",
    "\n",
    "df_OpenSealed_D1_Bo3 = df3[df['Format']=='OpenSealed_D1_Bo3'].merge(OpenSealed_D1_Bo3, on='wins', how='left')\n",
    "df_OpenSealed_D1_Bo3['Entry'] = 4500"
   ]
  },
  {
   "cell_type": "code",
   "execution_count": 13,
   "id": "modular-married",
   "metadata": {},
   "outputs": [],
   "source": [
    "df4 = pd.concat([df_Sealed, df_PremierDraft, df_TradDraft, df_OpenSealed_D1_Bo1, df_OpenSealed_D1_Bo3]).sort_values(by='Date')\n"
   ]
  },
  {
   "cell_type": "code",
   "execution_count": 14,
   "id": "center-crowd",
   "metadata": {},
   "outputs": [
    {
     "data": {
      "text/plain": [
       "['Date',\n",
       " 'Set',\n",
       " 'Trophy',\n",
       " 'Colors',\n",
       " 'W/L',\n",
       " 'Format',\n",
       " 'Start Rank',\n",
       " 'End Rank',\n",
       " 'Shareable Links',\n",
       " 'wins',\n",
       " 'loses',\n",
       " 'gems',\n",
       " 'packs',\n",
       " 'Entry']"
      ]
     },
     "execution_count": 14,
     "metadata": {},
     "output_type": "execute_result"
    }
   ],
   "source": [
    "df4.columns.tolist()"
   ]
  },
  {
   "cell_type": "code",
   "execution_count": 15,
   "id": "historical-machinery",
   "metadata": {},
   "outputs": [],
   "source": [
    "df4['balance'] = df4['gems']-df4['Entry']\n",
    "df4['ttl_balance'] = df4['balance'].cumsum()\n",
    "df4.sort_values(by='Date', inplace=True)"
   ]
  },
  {
   "cell_type": "code",
   "execution_count": 17,
   "id": "associate-approval",
   "metadata": {},
   "outputs": [],
   "source": [
    "df4.to_csv('./processed_data/data.csv',index=None)"
   ]
  }
 ],
 "metadata": {
  "kernelspec": {
   "display_name": "Python 3",
   "language": "python",
   "name": "python3"
  },
  "language_info": {
   "codemirror_mode": {
    "name": "ipython",
    "version": 3
   },
   "file_extension": ".py",
   "mimetype": "text/x-python",
   "name": "python",
   "nbconvert_exporter": "python",
   "pygments_lexer": "ipython3",
   "version": "3.9.2"
  }
 },
 "nbformat": 4,
 "nbformat_minor": 5
}
